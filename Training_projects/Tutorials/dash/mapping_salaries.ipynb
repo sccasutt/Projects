{
 "cells": [
  {
   "cell_type": "code",
   "execution_count": 231,
   "metadata": {},
   "outputs": [],
   "source": [
    "import pandas as pd\n",
    "import plotly.express as px\n",
    "import country_converter as coco"
   ]
  },
  {
   "cell_type": "code",
   "execution_count": 232,
   "metadata": {},
   "outputs": [
    {
     "data": {
      "text/html": [
       "<div>\n",
       "<style scoped>\n",
       "    .dataframe tbody tr th:only-of-type {\n",
       "        vertical-align: middle;\n",
       "    }\n",
       "\n",
       "    .dataframe tbody tr th {\n",
       "        vertical-align: top;\n",
       "    }\n",
       "\n",
       "    .dataframe thead th {\n",
       "        text-align: right;\n",
       "    }\n",
       "</style>\n",
       "<table border=\"1\" class=\"dataframe\">\n",
       "  <thead>\n",
       "    <tr style=\"text-align: right;\">\n",
       "      <th></th>\n",
       "      <th>work_year</th>\n",
       "      <th>experience_level</th>\n",
       "      <th>employment_type</th>\n",
       "      <th>job_title</th>\n",
       "      <th>salary</th>\n",
       "      <th>salary_currency</th>\n",
       "      <th>salary_in_usd</th>\n",
       "      <th>employee_residence</th>\n",
       "      <th>remote_ratio</th>\n",
       "      <th>company_location</th>\n",
       "      <th>company_size</th>\n",
       "    </tr>\n",
       "  </thead>\n",
       "  <tbody>\n",
       "    <tr>\n",
       "      <th>0</th>\n",
       "      <td>2020</td>\n",
       "      <td>MI</td>\n",
       "      <td>FT</td>\n",
       "      <td>Data Scientist</td>\n",
       "      <td>70000</td>\n",
       "      <td>EUR</td>\n",
       "      <td>79833</td>\n",
       "      <td>DE</td>\n",
       "      <td>0</td>\n",
       "      <td>DE</td>\n",
       "      <td>L</td>\n",
       "    </tr>\n",
       "    <tr>\n",
       "      <th>1</th>\n",
       "      <td>2020</td>\n",
       "      <td>SE</td>\n",
       "      <td>FT</td>\n",
       "      <td>Machine Learning Scientist</td>\n",
       "      <td>260000</td>\n",
       "      <td>USD</td>\n",
       "      <td>260000</td>\n",
       "      <td>JP</td>\n",
       "      <td>0</td>\n",
       "      <td>JP</td>\n",
       "      <td>S</td>\n",
       "    </tr>\n",
       "    <tr>\n",
       "      <th>2</th>\n",
       "      <td>2020</td>\n",
       "      <td>SE</td>\n",
       "      <td>FT</td>\n",
       "      <td>Big Data Engineer</td>\n",
       "      <td>85000</td>\n",
       "      <td>GBP</td>\n",
       "      <td>109024</td>\n",
       "      <td>GB</td>\n",
       "      <td>50</td>\n",
       "      <td>GB</td>\n",
       "      <td>M</td>\n",
       "    </tr>\n",
       "    <tr>\n",
       "      <th>3</th>\n",
       "      <td>2020</td>\n",
       "      <td>MI</td>\n",
       "      <td>FT</td>\n",
       "      <td>Product Data Analyst</td>\n",
       "      <td>20000</td>\n",
       "      <td>USD</td>\n",
       "      <td>20000</td>\n",
       "      <td>HN</td>\n",
       "      <td>0</td>\n",
       "      <td>HN</td>\n",
       "      <td>S</td>\n",
       "    </tr>\n",
       "    <tr>\n",
       "      <th>4</th>\n",
       "      <td>2020</td>\n",
       "      <td>SE</td>\n",
       "      <td>FT</td>\n",
       "      <td>Machine Learning Engineer</td>\n",
       "      <td>150000</td>\n",
       "      <td>USD</td>\n",
       "      <td>150000</td>\n",
       "      <td>US</td>\n",
       "      <td>50</td>\n",
       "      <td>US</td>\n",
       "      <td>L</td>\n",
       "    </tr>\n",
       "  </tbody>\n",
       "</table>\n",
       "</div>"
      ],
      "text/plain": [
       "   work_year experience_level employment_type                   job_title  \\\n",
       "0       2020               MI              FT              Data Scientist   \n",
       "1       2020               SE              FT  Machine Learning Scientist   \n",
       "2       2020               SE              FT           Big Data Engineer   \n",
       "3       2020               MI              FT        Product Data Analyst   \n",
       "4       2020               SE              FT   Machine Learning Engineer   \n",
       "\n",
       "   salary salary_currency  salary_in_usd employee_residence  remote_ratio  \\\n",
       "0   70000             EUR          79833                 DE             0   \n",
       "1  260000             USD         260000                 JP             0   \n",
       "2   85000             GBP         109024                 GB            50   \n",
       "3   20000             USD          20000                 HN             0   \n",
       "4  150000             USD         150000                 US            50   \n",
       "\n",
       "  company_location company_size  \n",
       "0               DE            L  \n",
       "1               JP            S  \n",
       "2               GB            M  \n",
       "3               HN            S  \n",
       "4               US            L  "
      ]
     },
     "execution_count": 232,
     "metadata": {},
     "output_type": "execute_result"
    }
   ],
   "source": [
    "# Read Salaries Data\n",
    "\n",
    "df = pd.read_csv('./data/ds_salaries.csv', index_col='Unnamed: 0')\n",
    "df.head()"
   ]
  },
  {
   "cell_type": "code",
   "execution_count": 234,
   "metadata": {},
   "outputs": [
    {
     "data": {
      "text/html": [
       "<div>\n",
       "<style scoped>\n",
       "    .dataframe tbody tr th:only-of-type {\n",
       "        vertical-align: middle;\n",
       "    }\n",
       "\n",
       "    .dataframe tbody tr th {\n",
       "        vertical-align: top;\n",
       "    }\n",
       "\n",
       "    .dataframe thead th {\n",
       "        text-align: right;\n",
       "    }\n",
       "</style>\n",
       "<table border=\"1\" class=\"dataframe\">\n",
       "  <thead>\n",
       "    <tr style=\"text-align: right;\">\n",
       "      <th></th>\n",
       "      <th>work_year</th>\n",
       "      <th>experience_level</th>\n",
       "      <th>employment_type</th>\n",
       "      <th>job_title</th>\n",
       "      <th>salary_in_usd</th>\n",
       "      <th>employee_residence</th>\n",
       "      <th>remote_ratio</th>\n",
       "      <th>company_location</th>\n",
       "      <th>company_size</th>\n",
       "    </tr>\n",
       "  </thead>\n",
       "  <tbody>\n",
       "    <tr>\n",
       "      <th>0</th>\n",
       "      <td>2020</td>\n",
       "      <td>MI</td>\n",
       "      <td>FT</td>\n",
       "      <td>Data Scientist</td>\n",
       "      <td>79833</td>\n",
       "      <td>DEU</td>\n",
       "      <td>0</td>\n",
       "      <td>DE</td>\n",
       "      <td>L</td>\n",
       "    </tr>\n",
       "    <tr>\n",
       "      <th>1</th>\n",
       "      <td>2020</td>\n",
       "      <td>SE</td>\n",
       "      <td>FT</td>\n",
       "      <td>Machine Learning Scientist</td>\n",
       "      <td>260000</td>\n",
       "      <td>JPN</td>\n",
       "      <td>0</td>\n",
       "      <td>JP</td>\n",
       "      <td>S</td>\n",
       "    </tr>\n",
       "    <tr>\n",
       "      <th>2</th>\n",
       "      <td>2020</td>\n",
       "      <td>SE</td>\n",
       "      <td>FT</td>\n",
       "      <td>Big Data Engineer</td>\n",
       "      <td>109024</td>\n",
       "      <td>GBR</td>\n",
       "      <td>50</td>\n",
       "      <td>GB</td>\n",
       "      <td>M</td>\n",
       "    </tr>\n",
       "    <tr>\n",
       "      <th>3</th>\n",
       "      <td>2020</td>\n",
       "      <td>MI</td>\n",
       "      <td>FT</td>\n",
       "      <td>Product Data Analyst</td>\n",
       "      <td>20000</td>\n",
       "      <td>HND</td>\n",
       "      <td>0</td>\n",
       "      <td>HN</td>\n",
       "      <td>S</td>\n",
       "    </tr>\n",
       "    <tr>\n",
       "      <th>4</th>\n",
       "      <td>2020</td>\n",
       "      <td>SE</td>\n",
       "      <td>FT</td>\n",
       "      <td>Machine Learning Engineer</td>\n",
       "      <td>150000</td>\n",
       "      <td>USA</td>\n",
       "      <td>50</td>\n",
       "      <td>US</td>\n",
       "      <td>L</td>\n",
       "    </tr>\n",
       "  </tbody>\n",
       "</table>\n",
       "</div>"
      ],
      "text/plain": [
       "   work_year experience_level employment_type                   job_title  \\\n",
       "0       2020               MI              FT              Data Scientist   \n",
       "1       2020               SE              FT  Machine Learning Scientist   \n",
       "2       2020               SE              FT           Big Data Engineer   \n",
       "3       2020               MI              FT        Product Data Analyst   \n",
       "4       2020               SE              FT   Machine Learning Engineer   \n",
       "\n",
       "   salary_in_usd employee_residence  remote_ratio company_location  \\\n",
       "0          79833                DEU             0               DE   \n",
       "1         260000                JPN             0               JP   \n",
       "2         109024                GBR            50               GB   \n",
       "3          20000                HND             0               HN   \n",
       "4         150000                USA            50               US   \n",
       "\n",
       "  company_size  \n",
       "0            L  \n",
       "1            S  \n",
       "2            M  \n",
       "3            S  \n",
       "4            L  "
      ]
     },
     "execution_count": 234,
     "metadata": {},
     "output_type": "execute_result"
    }
   ],
   "source": [
    "# Convert countries to ISO 3 code for possible merge later\n",
    "\n",
    "df['employee_residence'] = coco.convert(names=df['employee_residence'], to=\"ISO3\")\n",
    "df.head()"
   ]
  },
  {
   "cell_type": "code",
   "execution_count": 235,
   "metadata": {},
   "outputs": [
    {
     "data": {
      "text/html": [
       "<div>\n",
       "<style scoped>\n",
       "    .dataframe tbody tr th:only-of-type {\n",
       "        vertical-align: middle;\n",
       "    }\n",
       "\n",
       "    .dataframe tbody tr th {\n",
       "        vertical-align: top;\n",
       "    }\n",
       "\n",
       "    .dataframe thead th {\n",
       "        text-align: right;\n",
       "    }\n",
       "</style>\n",
       "<table border=\"1\" class=\"dataframe\">\n",
       "  <thead>\n",
       "    <tr style=\"text-align: right;\">\n",
       "      <th></th>\n",
       "      <th>work_year</th>\n",
       "      <th>job_title</th>\n",
       "      <th>salary_in_usd</th>\n",
       "      <th>employee_residence</th>\n",
       "      <th>company_location</th>\n",
       "    </tr>\n",
       "  </thead>\n",
       "  <tbody>\n",
       "    <tr>\n",
       "      <th>0</th>\n",
       "      <td>2020</td>\n",
       "      <td>Data Scientist</td>\n",
       "      <td>79833</td>\n",
       "      <td>DEU</td>\n",
       "      <td>DE</td>\n",
       "    </tr>\n",
       "    <tr>\n",
       "      <th>1</th>\n",
       "      <td>2020</td>\n",
       "      <td>Machine Learning Scientist</td>\n",
       "      <td>260000</td>\n",
       "      <td>JPN</td>\n",
       "      <td>JP</td>\n",
       "    </tr>\n",
       "    <tr>\n",
       "      <th>2</th>\n",
       "      <td>2020</td>\n",
       "      <td>Big Data Engineer</td>\n",
       "      <td>109024</td>\n",
       "      <td>GBR</td>\n",
       "      <td>GB</td>\n",
       "    </tr>\n",
       "    <tr>\n",
       "      <th>3</th>\n",
       "      <td>2020</td>\n",
       "      <td>Product Data Analyst</td>\n",
       "      <td>20000</td>\n",
       "      <td>HND</td>\n",
       "      <td>HN</td>\n",
       "    </tr>\n",
       "    <tr>\n",
       "      <th>4</th>\n",
       "      <td>2020</td>\n",
       "      <td>Machine Learning Engineer</td>\n",
       "      <td>150000</td>\n",
       "      <td>USA</td>\n",
       "      <td>US</td>\n",
       "    </tr>\n",
       "  </tbody>\n",
       "</table>\n",
       "</div>"
      ],
      "text/plain": [
       "   work_year                   job_title  salary_in_usd employee_residence  \\\n",
       "0       2020              Data Scientist          79833                DEU   \n",
       "1       2020  Machine Learning Scientist         260000                JPN   \n",
       "2       2020           Big Data Engineer         109024                GBR   \n",
       "3       2020        Product Data Analyst          20000                HND   \n",
       "4       2020   Machine Learning Engineer         150000                USA   \n",
       "\n",
       "  company_location  \n",
       "0               DE  \n",
       "1               JP  \n",
       "2               GB  \n",
       "3               HN  \n",
       "4               US  "
      ]
     },
     "execution_count": 235,
     "metadata": {},
     "output_type": "execute_result"
    }
   ],
   "source": [
    "# Drop columns that are not used for this analysis\n",
    "\n",
    "df.drop(['experience_level', 'employment_type', 'remote_ratio','company_size', 'salary', 'salary_currency'], inplace=True, axis=1)\n",
    "df.head()"
   ]
  },
  {
   "cell_type": "code",
   "execution_count": 236,
   "metadata": {},
   "outputs": [
    {
     "data": {
      "text/html": [
       "<div>\n",
       "<style scoped>\n",
       "    .dataframe tbody tr th:only-of-type {\n",
       "        vertical-align: middle;\n",
       "    }\n",
       "\n",
       "    .dataframe tbody tr th {\n",
       "        vertical-align: top;\n",
       "    }\n",
       "\n",
       "    .dataframe thead th {\n",
       "        text-align: right;\n",
       "    }\n",
       "</style>\n",
       "<table border=\"1\" class=\"dataframe\">\n",
       "  <thead>\n",
       "    <tr style=\"text-align: right;\">\n",
       "      <th></th>\n",
       "      <th>date</th>\n",
       "      <th>iso_a3</th>\n",
       "      <th>currency_code</th>\n",
       "      <th>name</th>\n",
       "      <th>local_price</th>\n",
       "      <th>dollar_ex</th>\n",
       "      <th>dollar_price</th>\n",
       "      <th>USD_raw</th>\n",
       "      <th>EUR_raw</th>\n",
       "      <th>GBP_raw</th>\n",
       "      <th>JPY_raw</th>\n",
       "      <th>CNY_raw</th>\n",
       "      <th>GDP_bigmac</th>\n",
       "      <th>adj_price</th>\n",
       "      <th>USD_adjusted</th>\n",
       "      <th>EUR_adjusted</th>\n",
       "      <th>GBP_adjusted</th>\n",
       "      <th>JPY_adjusted</th>\n",
       "      <th>CNY_adjusted</th>\n",
       "    </tr>\n",
       "  </thead>\n",
       "  <tbody>\n",
       "    <tr>\n",
       "      <th>0</th>\n",
       "      <td>2000-04-01</td>\n",
       "      <td>ARG</td>\n",
       "      <td>ARS</td>\n",
       "      <td>Argentina</td>\n",
       "      <td>2.50</td>\n",
       "      <td>1.00</td>\n",
       "      <td>2.500000</td>\n",
       "      <td>0.11607</td>\n",
       "      <td>0.05007</td>\n",
       "      <td>-0.16722</td>\n",
       "      <td>-0.09864</td>\n",
       "      <td>1.09091</td>\n",
       "      <td>7803.328512</td>\n",
       "      <td>1.922652</td>\n",
       "      <td>0.39117</td>\n",
       "      <td>NaN</td>\n",
       "      <td>-0.06626</td>\n",
       "      <td>0.10096</td>\n",
       "      <td>0.97153</td>\n",
       "    </tr>\n",
       "    <tr>\n",
       "      <th>1</th>\n",
       "      <td>2000-04-01</td>\n",
       "      <td>AUS</td>\n",
       "      <td>AUD</td>\n",
       "      <td>Australia</td>\n",
       "      <td>2.59</td>\n",
       "      <td>1.68</td>\n",
       "      <td>1.541667</td>\n",
       "      <td>-0.31176</td>\n",
       "      <td>-0.35246</td>\n",
       "      <td>-0.48645</td>\n",
       "      <td>-0.44416</td>\n",
       "      <td>0.28939</td>\n",
       "      <td>29144.876973</td>\n",
       "      <td>2.301550</td>\n",
       "      <td>-0.28335</td>\n",
       "      <td>NaN</td>\n",
       "      <td>-0.51898</td>\n",
       "      <td>-0.43285</td>\n",
       "      <td>0.01563</td>\n",
       "    </tr>\n",
       "    <tr>\n",
       "      <th>2</th>\n",
       "      <td>2000-04-01</td>\n",
       "      <td>BRA</td>\n",
       "      <td>BRL</td>\n",
       "      <td>Brazil</td>\n",
       "      <td>2.95</td>\n",
       "      <td>1.79</td>\n",
       "      <td>1.648045</td>\n",
       "      <td>-0.26427</td>\n",
       "      <td>-0.30778</td>\n",
       "      <td>-0.45102</td>\n",
       "      <td>-0.40581</td>\n",
       "      <td>0.37836</td>\n",
       "      <td>4822.738983</td>\n",
       "      <td>1.869734</td>\n",
       "      <td>-0.05696</td>\n",
       "      <td>NaN</td>\n",
       "      <td>-0.36704</td>\n",
       "      <td>-0.25369</td>\n",
       "      <td>0.33645</td>\n",
       "    </tr>\n",
       "    <tr>\n",
       "      <th>3</th>\n",
       "      <td>2000-04-01</td>\n",
       "      <td>CAN</td>\n",
       "      <td>CAD</td>\n",
       "      <td>Canada</td>\n",
       "      <td>2.85</td>\n",
       "      <td>1.47</td>\n",
       "      <td>1.938776</td>\n",
       "      <td>-0.13448</td>\n",
       "      <td>-0.18566</td>\n",
       "      <td>-0.35417</td>\n",
       "      <td>-0.30099</td>\n",
       "      <td>0.62152</td>\n",
       "      <td>26087.329235</td>\n",
       "      <td>2.247266</td>\n",
       "      <td>-0.07698</td>\n",
       "      <td>NaN</td>\n",
       "      <td>-0.38047</td>\n",
       "      <td>-0.26953</td>\n",
       "      <td>0.30809</td>\n",
       "    </tr>\n",
       "    <tr>\n",
       "      <th>4</th>\n",
       "      <td>2000-04-01</td>\n",
       "      <td>CHE</td>\n",
       "      <td>CHF</td>\n",
       "      <td>Switzerland</td>\n",
       "      <td>5.90</td>\n",
       "      <td>1.70</td>\n",
       "      <td>3.470588</td>\n",
       "      <td>0.54937</td>\n",
       "      <td>0.45774</td>\n",
       "      <td>0.15609</td>\n",
       "      <td>0.25130</td>\n",
       "      <td>1.90267</td>\n",
       "      <td>23872.716095</td>\n",
       "      <td>2.207948</td>\n",
       "      <td>0.68172</td>\n",
       "      <td>NaN</td>\n",
       "      <td>0.12876</td>\n",
       "      <td>0.33090</td>\n",
       "      <td>1.38330</td>\n",
       "    </tr>\n",
       "  </tbody>\n",
       "</table>\n",
       "</div>"
      ],
      "text/plain": [
       "         date iso_a3 currency_code         name  local_price  dollar_ex  \\\n",
       "0  2000-04-01    ARG           ARS    Argentina         2.50       1.00   \n",
       "1  2000-04-01    AUS           AUD    Australia         2.59       1.68   \n",
       "2  2000-04-01    BRA           BRL       Brazil         2.95       1.79   \n",
       "3  2000-04-01    CAN           CAD       Canada         2.85       1.47   \n",
       "4  2000-04-01    CHE           CHF  Switzerland         5.90       1.70   \n",
       "\n",
       "   dollar_price  USD_raw  EUR_raw  GBP_raw  JPY_raw  CNY_raw    GDP_bigmac  \\\n",
       "0      2.500000  0.11607  0.05007 -0.16722 -0.09864  1.09091   7803.328512   \n",
       "1      1.541667 -0.31176 -0.35246 -0.48645 -0.44416  0.28939  29144.876973   \n",
       "2      1.648045 -0.26427 -0.30778 -0.45102 -0.40581  0.37836   4822.738983   \n",
       "3      1.938776 -0.13448 -0.18566 -0.35417 -0.30099  0.62152  26087.329235   \n",
       "4      3.470588  0.54937  0.45774  0.15609  0.25130  1.90267  23872.716095   \n",
       "\n",
       "   adj_price  USD_adjusted  EUR_adjusted  GBP_adjusted  JPY_adjusted  \\\n",
       "0   1.922652       0.39117           NaN      -0.06626       0.10096   \n",
       "1   2.301550      -0.28335           NaN      -0.51898      -0.43285   \n",
       "2   1.869734      -0.05696           NaN      -0.36704      -0.25369   \n",
       "3   2.247266      -0.07698           NaN      -0.38047      -0.26953   \n",
       "4   2.207948       0.68172           NaN       0.12876       0.33090   \n",
       "\n",
       "   CNY_adjusted  \n",
       "0       0.97153  \n",
       "1       0.01563  \n",
       "2       0.33645  \n",
       "3       0.30809  \n",
       "4       1.38330  "
      ]
     },
     "execution_count": 236,
     "metadata": {},
     "output_type": "execute_result"
    }
   ],
   "source": [
    "# Read BigMac index Data\n",
    "\n",
    "df_big_mac = pd.read_csv('https://raw.githubusercontent.com/TheEconomist/big-mac-data/master/output-data/big-mac-full-index.csv')\n",
    "df_big_mac.head()"
   ]
  },
  {
   "cell_type": "code",
   "execution_count": 237,
   "metadata": {},
   "outputs": [],
   "source": [
    "# Convert date to datetime for easier filtering\n",
    "\n",
    "df_big_mac.date = pd.to_datetime(df_big_mac.date)"
   ]
  },
  {
   "cell_type": "code",
   "execution_count": 238,
   "metadata": {},
   "outputs": [
    {
     "data": {
      "text/html": [
       "<div>\n",
       "<style scoped>\n",
       "    .dataframe tbody tr th:only-of-type {\n",
       "        vertical-align: middle;\n",
       "    }\n",
       "\n",
       "    .dataframe tbody tr th {\n",
       "        vertical-align: top;\n",
       "    }\n",
       "\n",
       "    .dataframe thead th {\n",
       "        text-align: right;\n",
       "    }\n",
       "</style>\n",
       "<table border=\"1\" class=\"dataframe\">\n",
       "  <thead>\n",
       "    <tr style=\"text-align: right;\">\n",
       "      <th></th>\n",
       "      <th>date</th>\n",
       "      <th>iso_a3</th>\n",
       "      <th>currency_code</th>\n",
       "      <th>name</th>\n",
       "      <th>local_price</th>\n",
       "      <th>dollar_ex</th>\n",
       "      <th>dollar_price</th>\n",
       "      <th>USD_raw</th>\n",
       "      <th>EUR_raw</th>\n",
       "      <th>GBP_raw</th>\n",
       "      <th>JPY_raw</th>\n",
       "      <th>CNY_raw</th>\n",
       "      <th>GDP_bigmac</th>\n",
       "      <th>adj_price</th>\n",
       "      <th>USD_adjusted</th>\n",
       "      <th>EUR_adjusted</th>\n",
       "      <th>GBP_adjusted</th>\n",
       "      <th>JPY_adjusted</th>\n",
       "      <th>CNY_adjusted</th>\n",
       "    </tr>\n",
       "  </thead>\n",
       "  <tbody>\n",
       "    <tr>\n",
       "      <th>0</th>\n",
       "      <td>2019-07-09</td>\n",
       "      <td>ARE</td>\n",
       "      <td>AED</td>\n",
       "      <td>United Arab Emirates</td>\n",
       "      <td>14.75</td>\n",
       "      <td>3.673150</td>\n",
       "      <td>4.015627</td>\n",
       "      <td>-0.14743</td>\n",
       "      <td>-0.12174</td>\n",
       "      <td>-0.02089</td>\n",
       "      <td>0.11990</td>\n",
       "      <td>0.31648</td>\n",
       "      <td>NaN</td>\n",
       "      <td>NaN</td>\n",
       "      <td>NaN</td>\n",
       "      <td>NaN</td>\n",
       "      <td>NaN</td>\n",
       "      <td>NaN</td>\n",
       "      <td>NaN</td>\n",
       "    </tr>\n",
       "    <tr>\n",
       "      <th>1</th>\n",
       "      <td>2019-07-09</td>\n",
       "      <td>ARG</td>\n",
       "      <td>ARS</td>\n",
       "      <td>Argentina</td>\n",
       "      <td>120.00</td>\n",
       "      <td>41.804500</td>\n",
       "      <td>2.870504</td>\n",
       "      <td>-0.39055</td>\n",
       "      <td>-0.37219</td>\n",
       "      <td>-0.30010</td>\n",
       "      <td>-0.19946</td>\n",
       "      <td>-0.05894</td>\n",
       "      <td>13006.861368</td>\n",
       "      <td>3.240098</td>\n",
       "      <td>-0.15031</td>\n",
       "      <td>-0.23968</td>\n",
       "      <td>-0.11244</td>\n",
       "      <td>0.05486</td>\n",
       "      <td>-0.04695</td>\n",
       "    </tr>\n",
       "    <tr>\n",
       "      <th>2</th>\n",
       "      <td>2019-07-09</td>\n",
       "      <td>AUS</td>\n",
       "      <td>AUD</td>\n",
       "      <td>Australia</td>\n",
       "      <td>6.15</td>\n",
       "      <td>1.443626</td>\n",
       "      <td>4.260105</td>\n",
       "      <td>-0.09552</td>\n",
       "      <td>-0.06827</td>\n",
       "      <td>0.03872</td>\n",
       "      <td>0.18808</td>\n",
       "      <td>0.39662</td>\n",
       "      <td>57626.147712</td>\n",
       "      <td>4.385329</td>\n",
       "      <td>-0.06829</td>\n",
       "      <td>-0.16629</td>\n",
       "      <td>-0.02677</td>\n",
       "      <td>0.15668</td>\n",
       "      <td>0.04504</td>\n",
       "    </tr>\n",
       "    <tr>\n",
       "      <th>3</th>\n",
       "      <td>2019-07-09</td>\n",
       "      <td>AZE</td>\n",
       "      <td>AZN</td>\n",
       "      <td>Azerbaijan</td>\n",
       "      <td>3.95</td>\n",
       "      <td>1.696500</td>\n",
       "      <td>2.328323</td>\n",
       "      <td>-0.50566</td>\n",
       "      <td>-0.49077</td>\n",
       "      <td>-0.43230</td>\n",
       "      <td>-0.35067</td>\n",
       "      <td>-0.23669</td>\n",
       "      <td>NaN</td>\n",
       "      <td>NaN</td>\n",
       "      <td>NaN</td>\n",
       "      <td>NaN</td>\n",
       "      <td>NaN</td>\n",
       "      <td>NaN</td>\n",
       "      <td>NaN</td>\n",
       "    </tr>\n",
       "    <tr>\n",
       "      <th>4</th>\n",
       "      <td>2019-07-09</td>\n",
       "      <td>BHR</td>\n",
       "      <td>BHD</td>\n",
       "      <td>Bahrain</td>\n",
       "      <td>1.40</td>\n",
       "      <td>0.377000</td>\n",
       "      <td>3.713528</td>\n",
       "      <td>-0.21157</td>\n",
       "      <td>-0.18781</td>\n",
       "      <td>-0.09455</td>\n",
       "      <td>0.03565</td>\n",
       "      <td>0.21744</td>\n",
       "      <td>NaN</td>\n",
       "      <td>NaN</td>\n",
       "      <td>NaN</td>\n",
       "      <td>NaN</td>\n",
       "      <td>NaN</td>\n",
       "      <td>NaN</td>\n",
       "      <td>NaN</td>\n",
       "    </tr>\n",
       "  </tbody>\n",
       "</table>\n",
       "</div>"
      ],
      "text/plain": [
       "        date iso_a3 currency_code                  name  local_price  \\\n",
       "0 2019-07-09    ARE           AED  United Arab Emirates        14.75   \n",
       "1 2019-07-09    ARG           ARS             Argentina       120.00   \n",
       "2 2019-07-09    AUS           AUD             Australia         6.15   \n",
       "3 2019-07-09    AZE           AZN            Azerbaijan         3.95   \n",
       "4 2019-07-09    BHR           BHD               Bahrain         1.40   \n",
       "\n",
       "   dollar_ex  dollar_price  USD_raw  EUR_raw  GBP_raw  JPY_raw  CNY_raw  \\\n",
       "0   3.673150      4.015627 -0.14743 -0.12174 -0.02089  0.11990  0.31648   \n",
       "1  41.804500      2.870504 -0.39055 -0.37219 -0.30010 -0.19946 -0.05894   \n",
       "2   1.443626      4.260105 -0.09552 -0.06827  0.03872  0.18808  0.39662   \n",
       "3   1.696500      2.328323 -0.50566 -0.49077 -0.43230 -0.35067 -0.23669   \n",
       "4   0.377000      3.713528 -0.21157 -0.18781 -0.09455  0.03565  0.21744   \n",
       "\n",
       "     GDP_bigmac  adj_price  USD_adjusted  EUR_adjusted  GBP_adjusted  \\\n",
       "0           NaN        NaN           NaN           NaN           NaN   \n",
       "1  13006.861368   3.240098      -0.15031      -0.23968      -0.11244   \n",
       "2  57626.147712   4.385329      -0.06829      -0.16629      -0.02677   \n",
       "3           NaN        NaN           NaN           NaN           NaN   \n",
       "4           NaN        NaN           NaN           NaN           NaN   \n",
       "\n",
       "   JPY_adjusted  CNY_adjusted  \n",
       "0           NaN           NaN  \n",
       "1       0.05486      -0.04695  \n",
       "2       0.15668       0.04504  \n",
       "3           NaN           NaN  \n",
       "4           NaN           NaN  "
      ]
     },
     "execution_count": 238,
     "metadata": {},
     "output_type": "execute_result"
    }
   ],
   "source": [
    "# Filter BigMac data to only use dates after 2018\n",
    "\n",
    "df_big_mac = df_big_mac[df_big_mac['date'] > '2019']\n",
    "df_big_mac.reset_index(drop=True, inplace=True)\n",
    "df_big_mac.head()"
   ]
  },
  {
   "cell_type": "code",
   "execution_count": 240,
   "metadata": {},
   "outputs": [
    {
     "data": {
      "text/html": [
       "<div>\n",
       "<style scoped>\n",
       "    .dataframe tbody tr th:only-of-type {\n",
       "        vertical-align: middle;\n",
       "    }\n",
       "\n",
       "    .dataframe tbody tr th {\n",
       "        vertical-align: top;\n",
       "    }\n",
       "\n",
       "    .dataframe thead th {\n",
       "        text-align: right;\n",
       "    }\n",
       "</style>\n",
       "<table border=\"1\" class=\"dataframe\">\n",
       "  <thead>\n",
       "    <tr style=\"text-align: right;\">\n",
       "      <th></th>\n",
       "      <th>date</th>\n",
       "      <th>iso_a3</th>\n",
       "      <th>local_price</th>\n",
       "      <th>dollar_ex</th>\n",
       "      <th>dollar_price</th>\n",
       "      <th>USD_raw</th>\n",
       "      <th>EUR_raw</th>\n",
       "      <th>GBP_raw</th>\n",
       "      <th>JPY_raw</th>\n",
       "      <th>CNY_raw</th>\n",
       "      <th>GDP_bigmac</th>\n",
       "      <th>adj_price</th>\n",
       "      <th>USD_adjusted</th>\n",
       "      <th>EUR_adjusted</th>\n",
       "      <th>GBP_adjusted</th>\n",
       "      <th>JPY_adjusted</th>\n",
       "      <th>CNY_adjusted</th>\n",
       "    </tr>\n",
       "  </thead>\n",
       "  <tbody>\n",
       "    <tr>\n",
       "      <th>0</th>\n",
       "      <td>2019</td>\n",
       "      <td>ARE</td>\n",
       "      <td>14.75</td>\n",
       "      <td>3.673150</td>\n",
       "      <td>4.015627</td>\n",
       "      <td>-0.14743</td>\n",
       "      <td>-0.12174</td>\n",
       "      <td>-0.02089</td>\n",
       "      <td>0.11990</td>\n",
       "      <td>0.31648</td>\n",
       "      <td>NaN</td>\n",
       "      <td>NaN</td>\n",
       "      <td>NaN</td>\n",
       "      <td>NaN</td>\n",
       "      <td>NaN</td>\n",
       "      <td>NaN</td>\n",
       "      <td>NaN</td>\n",
       "    </tr>\n",
       "    <tr>\n",
       "      <th>1</th>\n",
       "      <td>2019</td>\n",
       "      <td>ARG</td>\n",
       "      <td>120.00</td>\n",
       "      <td>41.804500</td>\n",
       "      <td>2.870504</td>\n",
       "      <td>-0.39055</td>\n",
       "      <td>-0.37219</td>\n",
       "      <td>-0.30010</td>\n",
       "      <td>-0.19946</td>\n",
       "      <td>-0.05894</td>\n",
       "      <td>13006.861368</td>\n",
       "      <td>3.240098</td>\n",
       "      <td>-0.15031</td>\n",
       "      <td>-0.23968</td>\n",
       "      <td>-0.11244</td>\n",
       "      <td>0.05486</td>\n",
       "      <td>-0.04695</td>\n",
       "    </tr>\n",
       "    <tr>\n",
       "      <th>2</th>\n",
       "      <td>2019</td>\n",
       "      <td>AUS</td>\n",
       "      <td>6.15</td>\n",
       "      <td>1.443626</td>\n",
       "      <td>4.260105</td>\n",
       "      <td>-0.09552</td>\n",
       "      <td>-0.06827</td>\n",
       "      <td>0.03872</td>\n",
       "      <td>0.18808</td>\n",
       "      <td>0.39662</td>\n",
       "      <td>57626.147712</td>\n",
       "      <td>4.385329</td>\n",
       "      <td>-0.06829</td>\n",
       "      <td>-0.16629</td>\n",
       "      <td>-0.02677</td>\n",
       "      <td>0.15668</td>\n",
       "      <td>0.04504</td>\n",
       "    </tr>\n",
       "    <tr>\n",
       "      <th>3</th>\n",
       "      <td>2019</td>\n",
       "      <td>AZE</td>\n",
       "      <td>3.95</td>\n",
       "      <td>1.696500</td>\n",
       "      <td>2.328323</td>\n",
       "      <td>-0.50566</td>\n",
       "      <td>-0.49077</td>\n",
       "      <td>-0.43230</td>\n",
       "      <td>-0.35067</td>\n",
       "      <td>-0.23669</td>\n",
       "      <td>NaN</td>\n",
       "      <td>NaN</td>\n",
       "      <td>NaN</td>\n",
       "      <td>NaN</td>\n",
       "      <td>NaN</td>\n",
       "      <td>NaN</td>\n",
       "      <td>NaN</td>\n",
       "    </tr>\n",
       "    <tr>\n",
       "      <th>4</th>\n",
       "      <td>2019</td>\n",
       "      <td>BHR</td>\n",
       "      <td>1.40</td>\n",
       "      <td>0.377000</td>\n",
       "      <td>3.713528</td>\n",
       "      <td>-0.21157</td>\n",
       "      <td>-0.18781</td>\n",
       "      <td>-0.09455</td>\n",
       "      <td>0.03565</td>\n",
       "      <td>0.21744</td>\n",
       "      <td>NaN</td>\n",
       "      <td>NaN</td>\n",
       "      <td>NaN</td>\n",
       "      <td>NaN</td>\n",
       "      <td>NaN</td>\n",
       "      <td>NaN</td>\n",
       "      <td>NaN</td>\n",
       "    </tr>\n",
       "  </tbody>\n",
       "</table>\n",
       "</div>"
      ],
      "text/plain": [
       "   date iso_a3  local_price  dollar_ex  dollar_price  USD_raw  EUR_raw  \\\n",
       "0  2019    ARE        14.75   3.673150      4.015627 -0.14743 -0.12174   \n",
       "1  2019    ARG       120.00  41.804500      2.870504 -0.39055 -0.37219   \n",
       "2  2019    AUS         6.15   1.443626      4.260105 -0.09552 -0.06827   \n",
       "3  2019    AZE         3.95   1.696500      2.328323 -0.50566 -0.49077   \n",
       "4  2019    BHR         1.40   0.377000      3.713528 -0.21157 -0.18781   \n",
       "\n",
       "   GBP_raw  JPY_raw  CNY_raw    GDP_bigmac  adj_price  USD_adjusted  \\\n",
       "0 -0.02089  0.11990  0.31648           NaN        NaN           NaN   \n",
       "1 -0.30010 -0.19946 -0.05894  13006.861368   3.240098      -0.15031   \n",
       "2  0.03872  0.18808  0.39662  57626.147712   4.385329      -0.06829   \n",
       "3 -0.43230 -0.35067 -0.23669           NaN        NaN           NaN   \n",
       "4 -0.09455  0.03565  0.21744           NaN        NaN           NaN   \n",
       "\n",
       "   EUR_adjusted  GBP_adjusted  JPY_adjusted  CNY_adjusted  \n",
       "0           NaN           NaN           NaN           NaN  \n",
       "1      -0.23968      -0.11244       0.05486      -0.04695  \n",
       "2      -0.16629      -0.02677       0.15668       0.04504  \n",
       "3           NaN           NaN           NaN           NaN  \n",
       "4           NaN           NaN           NaN           NaN  "
      ]
     },
     "execution_count": 240,
     "metadata": {},
     "output_type": "execute_result"
    }
   ],
   "source": [
    "#Group bigmac by year\n",
    "\n",
    "df_big_mac = pd.DataFrame(df_big_mac.groupby([df_big_mac.date.dt.year, df_big_mac.iso_a3]).mean())\n",
    "df_big_mac.reset_index( inplace=True)\n",
    "df_big_mac.head()\n"
   ]
  },
  {
   "cell_type": "code",
   "execution_count": 241,
   "metadata": {},
   "outputs": [
    {
     "data": {
      "text/html": [
       "<div>\n",
       "<style scoped>\n",
       "    .dataframe tbody tr th:only-of-type {\n",
       "        vertical-align: middle;\n",
       "    }\n",
       "\n",
       "    .dataframe tbody tr th {\n",
       "        vertical-align: top;\n",
       "    }\n",
       "\n",
       "    .dataframe thead th {\n",
       "        text-align: right;\n",
       "    }\n",
       "</style>\n",
       "<table border=\"1\" class=\"dataframe\">\n",
       "  <thead>\n",
       "    <tr style=\"text-align: right;\">\n",
       "      <th></th>\n",
       "      <th>date</th>\n",
       "      <th>iso_a3</th>\n",
       "      <th>adj_price</th>\n",
       "    </tr>\n",
       "  </thead>\n",
       "  <tbody>\n",
       "    <tr>\n",
       "      <th>1</th>\n",
       "      <td>2019</td>\n",
       "      <td>ARG</td>\n",
       "      <td>3.240098</td>\n",
       "    </tr>\n",
       "    <tr>\n",
       "      <th>2</th>\n",
       "      <td>2019</td>\n",
       "      <td>AUS</td>\n",
       "      <td>4.385329</td>\n",
       "    </tr>\n",
       "    <tr>\n",
       "      <th>5</th>\n",
       "      <td>2019</td>\n",
       "      <td>BRA</td>\n",
       "      <td>3.138321</td>\n",
       "    </tr>\n",
       "    <tr>\n",
       "      <th>6</th>\n",
       "      <td>2019</td>\n",
       "      <td>CAN</td>\n",
       "      <td>3.985136</td>\n",
       "    </tr>\n",
       "    <tr>\n",
       "      <th>7</th>\n",
       "      <td>2019</td>\n",
       "      <td>CHE</td>\n",
       "      <td>4.484086</td>\n",
       "    </tr>\n",
       "  </tbody>\n",
       "</table>\n",
       "</div>"
      ],
      "text/plain": [
       "   date iso_a3  adj_price\n",
       "1  2019    ARG   3.240098\n",
       "2  2019    AUS   4.385329\n",
       "5  2019    BRA   3.138321\n",
       "6  2019    CAN   3.985136\n",
       "7  2019    CHE   4.484086"
      ]
     },
     "execution_count": 241,
     "metadata": {},
     "output_type": "execute_result"
    }
   ],
   "source": [
    "# Filter bigmac for relevant data\n",
    "\n",
    "merge_df = df_big_mac.filter(['date', 'iso_a3','adj_price'])\n",
    "merge_df.dropna(inplace=True)\n",
    "merge_df.head()"
   ]
  },
  {
   "cell_type": "code",
   "execution_count": 242,
   "metadata": {},
   "outputs": [
    {
     "data": {
      "text/html": [
       "<div>\n",
       "<style scoped>\n",
       "    .dataframe tbody tr th:only-of-type {\n",
       "        vertical-align: middle;\n",
       "    }\n",
       "\n",
       "    .dataframe tbody tr th {\n",
       "        vertical-align: top;\n",
       "    }\n",
       "\n",
       "    .dataframe thead th {\n",
       "        text-align: right;\n",
       "    }\n",
       "</style>\n",
       "<table border=\"1\" class=\"dataframe\">\n",
       "  <thead>\n",
       "    <tr style=\"text-align: right;\">\n",
       "      <th></th>\n",
       "      <th>work_year</th>\n",
       "      <th>job_title</th>\n",
       "      <th>salary_in_usd</th>\n",
       "      <th>employee_residence</th>\n",
       "      <th>company_location</th>\n",
       "      <th>adj_price</th>\n",
       "    </tr>\n",
       "  </thead>\n",
       "  <tbody>\n",
       "    <tr>\n",
       "      <th>0</th>\n",
       "      <td>2020</td>\n",
       "      <td>Machine Learning Scientist</td>\n",
       "      <td>260000</td>\n",
       "      <td>JPN</td>\n",
       "      <td>JP</td>\n",
       "      <td>4.386802</td>\n",
       "    </tr>\n",
       "    <tr>\n",
       "      <th>1</th>\n",
       "      <td>2020</td>\n",
       "      <td>Data Engineer</td>\n",
       "      <td>41689</td>\n",
       "      <td>JPN</td>\n",
       "      <td>JP</td>\n",
       "      <td>4.386802</td>\n",
       "    </tr>\n",
       "    <tr>\n",
       "      <th>2</th>\n",
       "      <td>2020</td>\n",
       "      <td>Big Data Engineer</td>\n",
       "      <td>109024</td>\n",
       "      <td>GBR</td>\n",
       "      <td>GB</td>\n",
       "      <td>4.204700</td>\n",
       "    </tr>\n",
       "    <tr>\n",
       "      <th>3</th>\n",
       "      <td>2020</td>\n",
       "      <td>Data Engineer</td>\n",
       "      <td>112872</td>\n",
       "      <td>GBR</td>\n",
       "      <td>GB</td>\n",
       "      <td>4.204700</td>\n",
       "    </tr>\n",
       "    <tr>\n",
       "      <th>4</th>\n",
       "      <td>2020</td>\n",
       "      <td>Data Scientist</td>\n",
       "      <td>76958</td>\n",
       "      <td>GBR</td>\n",
       "      <td>GB</td>\n",
       "      <td>4.204700</td>\n",
       "    </tr>\n",
       "  </tbody>\n",
       "</table>\n",
       "</div>"
      ],
      "text/plain": [
       "   work_year                   job_title  salary_in_usd employee_residence  \\\n",
       "0       2020  Machine Learning Scientist         260000                JPN   \n",
       "1       2020               Data Engineer          41689                JPN   \n",
       "2       2020           Big Data Engineer         109024                GBR   \n",
       "3       2020               Data Engineer         112872                GBR   \n",
       "4       2020              Data Scientist          76958                GBR   \n",
       "\n",
       "  company_location  adj_price  \n",
       "0               JP   4.386802  \n",
       "1               JP   4.386802  \n",
       "2               GB   4.204700  \n",
       "3               GB   4.204700  \n",
       "4               GB   4.204700  "
      ]
     },
     "execution_count": 242,
     "metadata": {},
     "output_type": "execute_result"
    }
   ],
   "source": [
    "#merge filtered salary data with bigmac data\n",
    "\n",
    "new_df = pd.merge(df,merge_df, left_on=['work_year','employee_residence'], right_on=['date','iso_a3']).drop(columns=['date','iso_a3'])\n",
    "new_df.head()"
   ]
  },
  {
   "cell_type": "code",
   "execution_count": 243,
   "metadata": {},
   "outputs": [
    {
     "data": {
      "text/html": [
       "<div>\n",
       "<style scoped>\n",
       "    .dataframe tbody tr th:only-of-type {\n",
       "        vertical-align: middle;\n",
       "    }\n",
       "\n",
       "    .dataframe tbody tr th {\n",
       "        vertical-align: top;\n",
       "    }\n",
       "\n",
       "    .dataframe thead th {\n",
       "        text-align: right;\n",
       "    }\n",
       "</style>\n",
       "<table border=\"1\" class=\"dataframe\">\n",
       "  <thead>\n",
       "    <tr style=\"text-align: right;\">\n",
       "      <th></th>\n",
       "      <th>work_year</th>\n",
       "      <th>job_title</th>\n",
       "      <th>salary_in_usd</th>\n",
       "      <th>employee_residence</th>\n",
       "      <th>company_location</th>\n",
       "      <th>adj_price</th>\n",
       "      <th>num_bigmacs</th>\n",
       "    </tr>\n",
       "  </thead>\n",
       "  <tbody>\n",
       "    <tr>\n",
       "      <th>0</th>\n",
       "      <td>2020</td>\n",
       "      <td>Machine Learning Scientist</td>\n",
       "      <td>260000</td>\n",
       "      <td>JPN</td>\n",
       "      <td>JP</td>\n",
       "      <td>4.386802</td>\n",
       "      <td>59268.687683</td>\n",
       "    </tr>\n",
       "    <tr>\n",
       "      <th>1</th>\n",
       "      <td>2020</td>\n",
       "      <td>Data Engineer</td>\n",
       "      <td>41689</td>\n",
       "      <td>JPN</td>\n",
       "      <td>JP</td>\n",
       "      <td>4.386802</td>\n",
       "      <td>9503.278157</td>\n",
       "    </tr>\n",
       "    <tr>\n",
       "      <th>2</th>\n",
       "      <td>2020</td>\n",
       "      <td>Big Data Engineer</td>\n",
       "      <td>109024</td>\n",
       "      <td>GBR</td>\n",
       "      <td>GB</td>\n",
       "      <td>4.204700</td>\n",
       "      <td>25929.082022</td>\n",
       "    </tr>\n",
       "    <tr>\n",
       "      <th>3</th>\n",
       "      <td>2020</td>\n",
       "      <td>Data Engineer</td>\n",
       "      <td>112872</td>\n",
       "      <td>GBR</td>\n",
       "      <td>GB</td>\n",
       "      <td>4.204700</td>\n",
       "      <td>26844.248477</td>\n",
       "    </tr>\n",
       "    <tr>\n",
       "      <th>4</th>\n",
       "      <td>2020</td>\n",
       "      <td>Data Scientist</td>\n",
       "      <td>76958</td>\n",
       "      <td>GBR</td>\n",
       "      <td>GB</td>\n",
       "      <td>4.204700</td>\n",
       "      <td>18302.853447</td>\n",
       "    </tr>\n",
       "  </tbody>\n",
       "</table>\n",
       "</div>"
      ],
      "text/plain": [
       "   work_year                   job_title  salary_in_usd employee_residence  \\\n",
       "0       2020  Machine Learning Scientist         260000                JPN   \n",
       "1       2020               Data Engineer          41689                JPN   \n",
       "2       2020           Big Data Engineer         109024                GBR   \n",
       "3       2020               Data Engineer         112872                GBR   \n",
       "4       2020              Data Scientist          76958                GBR   \n",
       "\n",
       "  company_location  adj_price   num_bigmacs  \n",
       "0               JP   4.386802  59268.687683  \n",
       "1               JP   4.386802   9503.278157  \n",
       "2               GB   4.204700  25929.082022  \n",
       "3               GB   4.204700  26844.248477  \n",
       "4               GB   4.204700  18302.853447  "
      ]
     },
     "execution_count": 243,
     "metadata": {},
     "output_type": "execute_result"
    }
   ],
   "source": [
    "#calculate number of bigmacs a salary can by in a country\n",
    "\n",
    "new_df['num_bigmacs'] = new_df['salary_in_usd'] / new_df['adj_price']\n",
    "new_df.head()"
   ]
  },
  {
   "cell_type": "code",
   "execution_count": 244,
   "metadata": {},
   "outputs": [
    {
     "data": {
      "application/vnd.plotly.v1+json": {
       "config": {
        "plotlyServerURL": "https://plot.ly"
       },
       "data": [
        {
         "coloraxis": "coloraxis",
         "geo": "geo",
         "hovertemplate": "locations=%{location}<br>color=%{z}<extra></extra>",
         "locations": [
          "ARE",
          "ARG",
          "AUS",
          "BRA",
          "CAN",
          "CHE",
          "CHL",
          "CHN",
          "COL",
          "CZE",
          "DNK",
          "GBR",
          "HKG",
          "HUN",
          "IND",
          "JPN",
          "MDA",
          "MEX",
          "MYS",
          "NZL",
          "PAK",
          "PHL",
          "POL",
          "ROU",
          "RUS",
          "SGP",
          "TUR",
          "UKR",
          "USA",
          "VNM"
         ],
         "name": "",
         "type": "choropleth",
         "z": [
          22242.917550427297,
          17286.49988532044,
          19251.86435792464,
          6483.355637200917,
          20758.52997645365,
          26801.781359035263,
          11256.424536647637,
          13038.664712898568,
          6613.115208262752,
          18011.05839412235,
          7890.139463020029,
          18851.459054759413,
          12276.138398717783,
          9707.615596167612,
          7332.7857098905515,
          16302.59740897992,
          5458.672177220073,
          5329.828011802896,
          53769.57822903257,
          29878.325425210067,
          6037.528908087194,
          14933.442479934332,
          11067.362814838169,
          13516.479610265975,
          19420.527746044034,
          20989.58084688941,
          5657.168077951263,
          4046.3076253521604,
          29738.686119975435,
          11773.954181224639
         ]
        }
       ],
       "layout": {
        "coloraxis": {
         "colorbar": {
          "title": {
           "text": "color"
          }
         },
         "colorscale": [
          [
           0,
           "rgb(41, 24, 107)"
          ],
          [
           0.09090909090909091,
           "rgb(42, 35, 160)"
          ],
          [
           0.18181818181818182,
           "rgb(15, 71, 153)"
          ],
          [
           0.2727272727272727,
           "rgb(18, 95, 142)"
          ],
          [
           0.36363636363636365,
           "rgb(38, 116, 137)"
          ],
          [
           0.45454545454545453,
           "rgb(53, 136, 136)"
          ],
          [
           0.5454545454545454,
           "rgb(65, 157, 133)"
          ],
          [
           0.6363636363636364,
           "rgb(81, 178, 124)"
          ],
          [
           0.7272727272727273,
           "rgb(111, 198, 107)"
          ],
          [
           0.8181818181818182,
           "rgb(160, 214, 91)"
          ],
          [
           0.9090909090909091,
           "rgb(212, 225, 112)"
          ],
          [
           1,
           "rgb(253, 238, 153)"
          ]
         ]
        },
        "font": {
         "family": "Helvetica",
         "size": 15
        },
        "geo": {
         "center": {},
         "domain": {
          "x": [
           0,
           1
          ],
          "y": [
           0,
           1
          ]
         }
        },
        "legend": {
         "tracegroupgap": 0
        },
        "template": {
         "data": {
          "bar": [
           {
            "error_x": {
             "color": "#f2f5fa"
            },
            "error_y": {
             "color": "#f2f5fa"
            },
            "marker": {
             "line": {
              "color": "rgb(17,17,17)",
              "width": 0.5
             },
             "pattern": {
              "fillmode": "overlay",
              "size": 10,
              "solidity": 0.2
             }
            },
            "type": "bar"
           }
          ],
          "barpolar": [
           {
            "marker": {
             "line": {
              "color": "rgb(17,17,17)",
              "width": 0.5
             },
             "pattern": {
              "fillmode": "overlay",
              "size": 10,
              "solidity": 0.2
             }
            },
            "type": "barpolar"
           }
          ],
          "carpet": [
           {
            "aaxis": {
             "endlinecolor": "#A2B1C6",
             "gridcolor": "#506784",
             "linecolor": "#506784",
             "minorgridcolor": "#506784",
             "startlinecolor": "#A2B1C6"
            },
            "baxis": {
             "endlinecolor": "#A2B1C6",
             "gridcolor": "#506784",
             "linecolor": "#506784",
             "minorgridcolor": "#506784",
             "startlinecolor": "#A2B1C6"
            },
            "type": "carpet"
           }
          ],
          "choropleth": [
           {
            "colorbar": {
             "outlinewidth": 0,
             "ticks": ""
            },
            "type": "choropleth"
           }
          ],
          "contour": [
           {
            "colorbar": {
             "outlinewidth": 0,
             "ticks": ""
            },
            "colorscale": [
             [
              0,
              "#0d0887"
             ],
             [
              0.1111111111111111,
              "#46039f"
             ],
             [
              0.2222222222222222,
              "#7201a8"
             ],
             [
              0.3333333333333333,
              "#9c179e"
             ],
             [
              0.4444444444444444,
              "#bd3786"
             ],
             [
              0.5555555555555556,
              "#d8576b"
             ],
             [
              0.6666666666666666,
              "#ed7953"
             ],
             [
              0.7777777777777778,
              "#fb9f3a"
             ],
             [
              0.8888888888888888,
              "#fdca26"
             ],
             [
              1,
              "#f0f921"
             ]
            ],
            "type": "contour"
           }
          ],
          "contourcarpet": [
           {
            "colorbar": {
             "outlinewidth": 0,
             "ticks": ""
            },
            "type": "contourcarpet"
           }
          ],
          "heatmap": [
           {
            "colorbar": {
             "outlinewidth": 0,
             "ticks": ""
            },
            "colorscale": [
             [
              0,
              "#0d0887"
             ],
             [
              0.1111111111111111,
              "#46039f"
             ],
             [
              0.2222222222222222,
              "#7201a8"
             ],
             [
              0.3333333333333333,
              "#9c179e"
             ],
             [
              0.4444444444444444,
              "#bd3786"
             ],
             [
              0.5555555555555556,
              "#d8576b"
             ],
             [
              0.6666666666666666,
              "#ed7953"
             ],
             [
              0.7777777777777778,
              "#fb9f3a"
             ],
             [
              0.8888888888888888,
              "#fdca26"
             ],
             [
              1,
              "#f0f921"
             ]
            ],
            "type": "heatmap"
           }
          ],
          "heatmapgl": [
           {
            "colorbar": {
             "outlinewidth": 0,
             "ticks": ""
            },
            "colorscale": [
             [
              0,
              "#0d0887"
             ],
             [
              0.1111111111111111,
              "#46039f"
             ],
             [
              0.2222222222222222,
              "#7201a8"
             ],
             [
              0.3333333333333333,
              "#9c179e"
             ],
             [
              0.4444444444444444,
              "#bd3786"
             ],
             [
              0.5555555555555556,
              "#d8576b"
             ],
             [
              0.6666666666666666,
              "#ed7953"
             ],
             [
              0.7777777777777778,
              "#fb9f3a"
             ],
             [
              0.8888888888888888,
              "#fdca26"
             ],
             [
              1,
              "#f0f921"
             ]
            ],
            "type": "heatmapgl"
           }
          ],
          "histogram": [
           {
            "marker": {
             "pattern": {
              "fillmode": "overlay",
              "size": 10,
              "solidity": 0.2
             }
            },
            "type": "histogram"
           }
          ],
          "histogram2d": [
           {
            "colorbar": {
             "outlinewidth": 0,
             "ticks": ""
            },
            "colorscale": [
             [
              0,
              "#0d0887"
             ],
             [
              0.1111111111111111,
              "#46039f"
             ],
             [
              0.2222222222222222,
              "#7201a8"
             ],
             [
              0.3333333333333333,
              "#9c179e"
             ],
             [
              0.4444444444444444,
              "#bd3786"
             ],
             [
              0.5555555555555556,
              "#d8576b"
             ],
             [
              0.6666666666666666,
              "#ed7953"
             ],
             [
              0.7777777777777778,
              "#fb9f3a"
             ],
             [
              0.8888888888888888,
              "#fdca26"
             ],
             [
              1,
              "#f0f921"
             ]
            ],
            "type": "histogram2d"
           }
          ],
          "histogram2dcontour": [
           {
            "colorbar": {
             "outlinewidth": 0,
             "ticks": ""
            },
            "colorscale": [
             [
              0,
              "#0d0887"
             ],
             [
              0.1111111111111111,
              "#46039f"
             ],
             [
              0.2222222222222222,
              "#7201a8"
             ],
             [
              0.3333333333333333,
              "#9c179e"
             ],
             [
              0.4444444444444444,
              "#bd3786"
             ],
             [
              0.5555555555555556,
              "#d8576b"
             ],
             [
              0.6666666666666666,
              "#ed7953"
             ],
             [
              0.7777777777777778,
              "#fb9f3a"
             ],
             [
              0.8888888888888888,
              "#fdca26"
             ],
             [
              1,
              "#f0f921"
             ]
            ],
            "type": "histogram2dcontour"
           }
          ],
          "mesh3d": [
           {
            "colorbar": {
             "outlinewidth": 0,
             "ticks": ""
            },
            "type": "mesh3d"
           }
          ],
          "parcoords": [
           {
            "line": {
             "colorbar": {
              "outlinewidth": 0,
              "ticks": ""
             }
            },
            "type": "parcoords"
           }
          ],
          "pie": [
           {
            "automargin": true,
            "type": "pie"
           }
          ],
          "scatter": [
           {
            "marker": {
             "line": {
              "color": "#283442"
             }
            },
            "type": "scatter"
           }
          ],
          "scatter3d": [
           {
            "line": {
             "colorbar": {
              "outlinewidth": 0,
              "ticks": ""
             }
            },
            "marker": {
             "colorbar": {
              "outlinewidth": 0,
              "ticks": ""
             }
            },
            "type": "scatter3d"
           }
          ],
          "scattercarpet": [
           {
            "marker": {
             "colorbar": {
              "outlinewidth": 0,
              "ticks": ""
             }
            },
            "type": "scattercarpet"
           }
          ],
          "scattergeo": [
           {
            "marker": {
             "colorbar": {
              "outlinewidth": 0,
              "ticks": ""
             }
            },
            "type": "scattergeo"
           }
          ],
          "scattergl": [
           {
            "marker": {
             "line": {
              "color": "#283442"
             }
            },
            "type": "scattergl"
           }
          ],
          "scattermapbox": [
           {
            "marker": {
             "colorbar": {
              "outlinewidth": 0,
              "ticks": ""
             }
            },
            "type": "scattermapbox"
           }
          ],
          "scatterpolar": [
           {
            "marker": {
             "colorbar": {
              "outlinewidth": 0,
              "ticks": ""
             }
            },
            "type": "scatterpolar"
           }
          ],
          "scatterpolargl": [
           {
            "marker": {
             "colorbar": {
              "outlinewidth": 0,
              "ticks": ""
             }
            },
            "type": "scatterpolargl"
           }
          ],
          "scatterternary": [
           {
            "marker": {
             "colorbar": {
              "outlinewidth": 0,
              "ticks": ""
             }
            },
            "type": "scatterternary"
           }
          ],
          "surface": [
           {
            "colorbar": {
             "outlinewidth": 0,
             "ticks": ""
            },
            "colorscale": [
             [
              0,
              "#0d0887"
             ],
             [
              0.1111111111111111,
              "#46039f"
             ],
             [
              0.2222222222222222,
              "#7201a8"
             ],
             [
              0.3333333333333333,
              "#9c179e"
             ],
             [
              0.4444444444444444,
              "#bd3786"
             ],
             [
              0.5555555555555556,
              "#d8576b"
             ],
             [
              0.6666666666666666,
              "#ed7953"
             ],
             [
              0.7777777777777778,
              "#fb9f3a"
             ],
             [
              0.8888888888888888,
              "#fdca26"
             ],
             [
              1,
              "#f0f921"
             ]
            ],
            "type": "surface"
           }
          ],
          "table": [
           {
            "cells": {
             "fill": {
              "color": "#506784"
             },
             "line": {
              "color": "rgb(17,17,17)"
             }
            },
            "header": {
             "fill": {
              "color": "#2a3f5f"
             },
             "line": {
              "color": "rgb(17,17,17)"
             }
            },
            "type": "table"
           }
          ]
         },
         "layout": {
          "annotationdefaults": {
           "arrowcolor": "#f2f5fa",
           "arrowhead": 0,
           "arrowwidth": 1
          },
          "autotypenumbers": "strict",
          "coloraxis": {
           "colorbar": {
            "outlinewidth": 0,
            "ticks": ""
           }
          },
          "colorscale": {
           "diverging": [
            [
             0,
             "#8e0152"
            ],
            [
             0.1,
             "#c51b7d"
            ],
            [
             0.2,
             "#de77ae"
            ],
            [
             0.3,
             "#f1b6da"
            ],
            [
             0.4,
             "#fde0ef"
            ],
            [
             0.5,
             "#f7f7f7"
            ],
            [
             0.6,
             "#e6f5d0"
            ],
            [
             0.7,
             "#b8e186"
            ],
            [
             0.8,
             "#7fbc41"
            ],
            [
             0.9,
             "#4d9221"
            ],
            [
             1,
             "#276419"
            ]
           ],
           "sequential": [
            [
             0,
             "#0d0887"
            ],
            [
             0.1111111111111111,
             "#46039f"
            ],
            [
             0.2222222222222222,
             "#7201a8"
            ],
            [
             0.3333333333333333,
             "#9c179e"
            ],
            [
             0.4444444444444444,
             "#bd3786"
            ],
            [
             0.5555555555555556,
             "#d8576b"
            ],
            [
             0.6666666666666666,
             "#ed7953"
            ],
            [
             0.7777777777777778,
             "#fb9f3a"
            ],
            [
             0.8888888888888888,
             "#fdca26"
            ],
            [
             1,
             "#f0f921"
            ]
           ],
           "sequentialminus": [
            [
             0,
             "#0d0887"
            ],
            [
             0.1111111111111111,
             "#46039f"
            ],
            [
             0.2222222222222222,
             "#7201a8"
            ],
            [
             0.3333333333333333,
             "#9c179e"
            ],
            [
             0.4444444444444444,
             "#bd3786"
            ],
            [
             0.5555555555555556,
             "#d8576b"
            ],
            [
             0.6666666666666666,
             "#ed7953"
            ],
            [
             0.7777777777777778,
             "#fb9f3a"
            ],
            [
             0.8888888888888888,
             "#fdca26"
            ],
            [
             1,
             "#f0f921"
            ]
           ]
          },
          "colorway": [
           "#636efa",
           "#EF553B",
           "#00cc96",
           "#ab63fa",
           "#FFA15A",
           "#19d3f3",
           "#FF6692",
           "#B6E880",
           "#FF97FF",
           "#FECB52"
          ],
          "font": {
           "color": "#f2f5fa"
          },
          "geo": {
           "bgcolor": "rgb(17,17,17)",
           "lakecolor": "rgb(17,17,17)",
           "landcolor": "rgb(17,17,17)",
           "showlakes": true,
           "showland": true,
           "subunitcolor": "#506784"
          },
          "hoverlabel": {
           "align": "left"
          },
          "hovermode": "closest",
          "mapbox": {
           "style": "dark"
          },
          "paper_bgcolor": "rgb(17,17,17)",
          "plot_bgcolor": "rgb(17,17,17)",
          "polar": {
           "angularaxis": {
            "gridcolor": "#506784",
            "linecolor": "#506784",
            "ticks": ""
           },
           "bgcolor": "rgb(17,17,17)",
           "radialaxis": {
            "gridcolor": "#506784",
            "linecolor": "#506784",
            "ticks": ""
           }
          },
          "scene": {
           "xaxis": {
            "backgroundcolor": "rgb(17,17,17)",
            "gridcolor": "#506784",
            "gridwidth": 2,
            "linecolor": "#506784",
            "showbackground": true,
            "ticks": "",
            "zerolinecolor": "#C8D4E3"
           },
           "yaxis": {
            "backgroundcolor": "rgb(17,17,17)",
            "gridcolor": "#506784",
            "gridwidth": 2,
            "linecolor": "#506784",
            "showbackground": true,
            "ticks": "",
            "zerolinecolor": "#C8D4E3"
           },
           "zaxis": {
            "backgroundcolor": "rgb(17,17,17)",
            "gridcolor": "#506784",
            "gridwidth": 2,
            "linecolor": "#506784",
            "showbackground": true,
            "ticks": "",
            "zerolinecolor": "#C8D4E3"
           }
          },
          "shapedefaults": {
           "line": {
            "color": "#f2f5fa"
           }
          },
          "sliderdefaults": {
           "bgcolor": "#C8D4E3",
           "bordercolor": "rgb(17,17,17)",
           "borderwidth": 1,
           "tickwidth": 0
          },
          "ternary": {
           "aaxis": {
            "gridcolor": "#506784",
            "linecolor": "#506784",
            "ticks": ""
           },
           "baxis": {
            "gridcolor": "#506784",
            "linecolor": "#506784",
            "ticks": ""
           },
           "bgcolor": "rgb(17,17,17)",
           "caxis": {
            "gridcolor": "#506784",
            "linecolor": "#506784",
            "ticks": ""
           }
          },
          "title": {
           "x": 0.05
          },
          "updatemenudefaults": {
           "bgcolor": "#506784",
           "borderwidth": 0
          },
          "xaxis": {
           "automargin": true,
           "gridcolor": "#283442",
           "linecolor": "#506784",
           "ticks": "",
           "title": {
            "standoff": 15
           },
           "zerolinecolor": "#283442",
           "zerolinewidth": 2
          },
          "yaxis": {
           "automargin": true,
           "gridcolor": "#283442",
           "linecolor": "#506784",
           "ticks": "",
           "title": {
            "standoff": 15
           },
           "zerolinecolor": "#283442",
           "zerolinewidth": 2
          }
         }
        },
        "title": {
         "text": "Median Number of BigMacs by Employee Location"
        }
       }
      }
     },
     "metadata": {},
     "output_type": "display_data"
    }
   ],
   "source": [
    "# Map Number of bigmacs \n",
    "\n",
    "bigmac_location = new_df.groupby(['num_bigmacs','employee_residence']).size().reset_index()\n",
    "average = bigmac_location.groupby('employee_residence').median().reset_index()\n",
    "\n",
    "fig = px.choropleth(locations=average['employee_residence'],\n",
    "                    color=average['num_bigmacs'],\n",
    "                    color_continuous_scale=px.colors.sequential.haline,\n",
    "                    template='plotly_dark',\n",
    "                    title = 'Median Number of BigMacs a salary would be able to buy by Employee Location')\n",
    "fig.update_layout(font = dict(size=15,family=\"Helvetica\"))\n",
    "fig.show()"
   ]
  },
  {
   "cell_type": "code",
   "execution_count": 245,
   "metadata": {},
   "outputs": [
    {
     "data": {
      "text/html": [
       "<div>\n",
       "<style scoped>\n",
       "    .dataframe tbody tr th:only-of-type {\n",
       "        vertical-align: middle;\n",
       "    }\n",
       "\n",
       "    .dataframe tbody tr th {\n",
       "        vertical-align: top;\n",
       "    }\n",
       "\n",
       "    .dataframe thead th {\n",
       "        text-align: right;\n",
       "    }\n",
       "</style>\n",
       "<table border=\"1\" class=\"dataframe\">\n",
       "  <thead>\n",
       "    <tr style=\"text-align: right;\">\n",
       "      <th></th>\n",
       "      <th>work_year</th>\n",
       "      <th>job_title</th>\n",
       "      <th>salary_in_usd</th>\n",
       "      <th>employee_residence</th>\n",
       "      <th>company_location</th>\n",
       "      <th>adj_price</th>\n",
       "      <th>num_bigmacs</th>\n",
       "    </tr>\n",
       "  </thead>\n",
       "  <tbody>\n",
       "    <tr>\n",
       "      <th>484</th>\n",
       "      <td>2022</td>\n",
       "      <td>Head of Data</td>\n",
       "      <td>200000</td>\n",
       "      <td>MYS</td>\n",
       "      <td>US</td>\n",
       "      <td>3.719575</td>\n",
       "      <td>53769.578229</td>\n",
       "    </tr>\n",
       "  </tbody>\n",
       "</table>\n",
       "</div>"
      ],
      "text/plain": [
       "     work_year     job_title  salary_in_usd employee_residence  \\\n",
       "484       2022  Head of Data         200000                MYS   \n",
       "\n",
       "    company_location  adj_price   num_bigmacs  \n",
       "484               US   3.719575  53769.578229  "
      ]
     },
     "execution_count": 245,
     "metadata": {},
     "output_type": "execute_result"
    }
   ],
   "source": [
    "# What's going on in Malaysia?\n",
    "\n",
    "new_df[new_df['employee_residence'] == 'MYS']"
   ]
  }
 ],
 "metadata": {
  "kernelspec": {
   "display_name": "Python 3.8.8 ('base')",
   "language": "python",
   "name": "python3"
  },
  "language_info": {
   "codemirror_mode": {
    "name": "ipython",
    "version": 3
   },
   "file_extension": ".py",
   "mimetype": "text/x-python",
   "name": "python",
   "nbconvert_exporter": "python",
   "pygments_lexer": "ipython3",
   "version": "3.8.8"
  },
  "orig_nbformat": 4,
  "vscode": {
   "interpreter": {
    "hash": "40d3a090f54c6569ab1632332b64b2c03c39dcf918b08424e98f38b5ae0af88f"
   }
  }
 },
 "nbformat": 4,
 "nbformat_minor": 2
}

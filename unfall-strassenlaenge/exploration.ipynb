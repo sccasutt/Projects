{
 "cells": [
  {
   "cell_type": "code",
   "execution_count": 1,
   "metadata": {},
   "outputs": [],
   "source": [
    "import pandas as pd\n",
    "import numpy as np\n",
    "import seaborn as sns\n",
    "import matplotlib.pyplot as plt"
   ]
  },
  {
   "cell_type": "code",
   "execution_count": 7,
   "metadata": {},
   "outputs": [
    {
     "name": "stdout",
     "output_type": "stream",
     "text": [
      "<_io.TextIOWrapper name='Unfall_nach_Kanton.csv' mode='r' encoding='UTF-8'>\n"
     ]
    }
   ],
   "source": [
    "#check encoding of csv file\n",
    "with open('Unfall_nach_Kanton.csv') as f:\n",
    "    print(f)"
   ]
  },
  {
   "cell_type": "code",
   "execution_count": 10,
   "metadata": {},
   "outputs": [
    {
     "data": {
      "text/html": [
       "<div>\n",
       "<style scoped>\n",
       "    .dataframe tbody tr th:only-of-type {\n",
       "        vertical-align: middle;\n",
       "    }\n",
       "\n",
       "    .dataframe tbody tr th {\n",
       "        vertical-align: top;\n",
       "    }\n",
       "\n",
       "    .dataframe thead th {\n",
       "        text-align: right;\n",
       "    }\n",
       "</style>\n",
       "<table border=\"1\" class=\"dataframe\">\n",
       "  <thead>\n",
       "    <tr style=\"text-align: right;\">\n",
       "      <th></th>\n",
       "      <th>Unfallschwere</th>\n",
       "      <th>Kanton</th>\n",
       "      <th>Strassenart</th>\n",
       "      <th>Unfallort</th>\n",
       "      <th>2020</th>\n",
       "      <th>2021</th>\n",
       "    </tr>\n",
       "  </thead>\n",
       "  <tbody>\n",
       "    <tr>\n",
       "      <th>0</th>\n",
       "      <td>Unfall mit Getöteten</td>\n",
       "      <td>Zürich</td>\n",
       "      <td>Autobahn</td>\n",
       "      <td>Ausserorts</td>\n",
       "      <td>3</td>\n",
       "      <td>1</td>\n",
       "    </tr>\n",
       "    <tr>\n",
       "      <th>1</th>\n",
       "      <td>Unfall mit Getöteten</td>\n",
       "      <td>Zürich</td>\n",
       "      <td>Autobahn</td>\n",
       "      <td>Innerorts</td>\n",
       "      <td>0</td>\n",
       "      <td>0</td>\n",
       "    </tr>\n",
       "    <tr>\n",
       "      <th>2</th>\n",
       "      <td>Unfall mit Getöteten</td>\n",
       "      <td>Zürich</td>\n",
       "      <td>Autobahnnebenanlage</td>\n",
       "      <td>Ausserorts</td>\n",
       "      <td>0</td>\n",
       "      <td>0</td>\n",
       "    </tr>\n",
       "    <tr>\n",
       "      <th>3</th>\n",
       "      <td>Unfall mit Getöteten</td>\n",
       "      <td>Zürich</td>\n",
       "      <td>Autobahnnebenanlage</td>\n",
       "      <td>Innerorts</td>\n",
       "      <td>0</td>\n",
       "      <td>0</td>\n",
       "    </tr>\n",
       "    <tr>\n",
       "      <th>4</th>\n",
       "      <td>Unfall mit Getöteten</td>\n",
       "      <td>Zürich</td>\n",
       "      <td>Autostrasse</td>\n",
       "      <td>Ausserorts</td>\n",
       "      <td>1</td>\n",
       "      <td>0</td>\n",
       "    </tr>\n",
       "  </tbody>\n",
       "</table>\n",
       "</div>"
      ],
      "text/plain": [
       "          Unfallschwere  Kanton          Strassenart   Unfallort  2020  2021\n",
       "0  Unfall mit Getöteten  Zürich             Autobahn  Ausserorts     3     1\n",
       "1  Unfall mit Getöteten  Zürich             Autobahn   Innerorts     0     0\n",
       "2  Unfall mit Getöteten  Zürich  Autobahnnebenanlage  Ausserorts     0     0\n",
       "3  Unfall mit Getöteten  Zürich  Autobahnnebenanlage   Innerorts     0     0\n",
       "4  Unfall mit Getöteten  Zürich          Autostrasse  Ausserorts     1     0"
      ]
     },
     "execution_count": 10,
     "metadata": {},
     "output_type": "execute_result"
    }
   ],
   "source": [
    "# load unfall nach Kanton and have a look at the data\n",
    "unf_df = pd.read_csv('Unfall_nach_Kanton.csv', encoding='unicode_escape', delimiter=';')\n",
    "unf_df.head()"
   ]
  },
  {
   "cell_type": "code",
   "execution_count": 13,
   "metadata": {},
   "outputs": [
    {
     "data": {
      "text/html": [
       "<div>\n",
       "<style scoped>\n",
       "    .dataframe tbody tr th:only-of-type {\n",
       "        vertical-align: middle;\n",
       "    }\n",
       "\n",
       "    .dataframe tbody tr th {\n",
       "        vertical-align: top;\n",
       "    }\n",
       "\n",
       "    .dataframe thead th {\n",
       "        text-align: right;\n",
       "    }\n",
       "</style>\n",
       "<table border=\"1\" class=\"dataframe\">\n",
       "  <thead>\n",
       "    <tr style=\"text-align: right;\">\n",
       "      <th></th>\n",
       "      <th></th>\n",
       "      <th>2020</th>\n",
       "      <th>2021</th>\n",
       "    </tr>\n",
       "    <tr>\n",
       "      <th>Unfallschwere</th>\n",
       "      <th>Kanton</th>\n",
       "      <th></th>\n",
       "      <th></th>\n",
       "    </tr>\n",
       "  </thead>\n",
       "  <tbody>\n",
       "    <tr>\n",
       "      <th rowspan=\"5\" valign=\"top\">Unfall mit Leichtverletzten</th>\n",
       "      <th>Zürich</th>\n",
       "      <td>2881</td>\n",
       "      <td>2737</td>\n",
       "    </tr>\n",
       "    <tr>\n",
       "      <th>Bern / Berne</th>\n",
       "      <td>1850</td>\n",
       "      <td>1911</td>\n",
       "    </tr>\n",
       "    <tr>\n",
       "      <th>Vaud</th>\n",
       "      <td>1246</td>\n",
       "      <td>1327</td>\n",
       "    </tr>\n",
       "    <tr>\n",
       "      <th>Aargau</th>\n",
       "      <td>833</td>\n",
       "      <td>816</td>\n",
       "    </tr>\n",
       "    <tr>\n",
       "      <th>Sankt Gallen</th>\n",
       "      <td>731</td>\n",
       "      <td>704</td>\n",
       "    </tr>\n",
       "    <tr>\n",
       "      <th>...</th>\n",
       "      <th>...</th>\n",
       "      <td>...</td>\n",
       "      <td>...</td>\n",
       "    </tr>\n",
       "    <tr>\n",
       "      <th rowspan=\"5\" valign=\"top\">Unfall mit Getöteten</th>\n",
       "      <th>Obwalden</th>\n",
       "      <td>1</td>\n",
       "      <td>1</td>\n",
       "    </tr>\n",
       "    <tr>\n",
       "      <th>Schaffhausen</th>\n",
       "      <td>1</td>\n",
       "      <td>2</td>\n",
       "    </tr>\n",
       "    <tr>\n",
       "      <th>Glarus</th>\n",
       "      <td>0</td>\n",
       "      <td>0</td>\n",
       "    </tr>\n",
       "    <tr>\n",
       "      <th>Appenzell-Innerrhoden</th>\n",
       "      <td>0</td>\n",
       "      <td>0</td>\n",
       "    </tr>\n",
       "    <tr>\n",
       "      <th>Appenzell-Ausserrhoden</th>\n",
       "      <td>0</td>\n",
       "      <td>1</td>\n",
       "    </tr>\n",
       "  </tbody>\n",
       "</table>\n",
       "<p>78 rows × 2 columns</p>\n",
       "</div>"
      ],
      "text/plain": [
       "                                                    2020  2021\n",
       "Unfallschwere               Kanton                            \n",
       "Unfall mit Leichtverletzten Zürich                  2881  2737\n",
       "                            Bern / Berne            1850  1911\n",
       "                            Vaud                    1246  1327\n",
       "                            Aargau                   833   816\n",
       "                            Sankt Gallen             731   704\n",
       "...                                                  ...   ...\n",
       "Unfall mit Getöteten        Obwalden                   1     1\n",
       "                            Schaffhausen               1     2\n",
       "                            Glarus                     0     0\n",
       "                            Appenzell-Innerrhoden      0     0\n",
       "                            Appenzell-Ausserrhoden     0     1\n",
       "\n",
       "[78 rows x 2 columns]"
      ]
     },
     "execution_count": 13,
     "metadata": {},
     "output_type": "execute_result"
    }
   ],
   "source": [
    "unf_df.groupby(['Unfallschwere','Kanton']).sum().sort_values('2020',ascending=False)"
   ]
  },
  {
   "cell_type": "code",
   "execution_count": null,
   "metadata": {},
   "outputs": [],
   "source": []
  }
 ],
 "metadata": {
  "kernelspec": {
   "display_name": "Python 3.8.8 ('base')",
   "language": "python",
   "name": "python3"
  },
  "language_info": {
   "codemirror_mode": {
    "name": "ipython",
    "version": 3
   },
   "file_extension": ".py",
   "mimetype": "text/x-python",
   "name": "python",
   "nbconvert_exporter": "python",
   "pygments_lexer": "ipython3",
   "version": "3.8.8"
  },
  "orig_nbformat": 4,
  "vscode": {
   "interpreter": {
    "hash": "40d3a090f54c6569ab1632332b64b2c03c39dcf918b08424e98f38b5ae0af88f"
   }
  }
 },
 "nbformat": 4,
 "nbformat_minor": 2
}
